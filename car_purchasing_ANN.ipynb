{
 "cells": [
  {
   "cell_type": "markdown",
   "metadata": {},
   "source": [
    "### Step 1: Importing required Modules"
   ]
  },
  {
   "cell_type": "code",
   "execution_count": 1,
   "metadata": {},
   "outputs": [],
   "source": [
    "import pandas as pd\n",
    "from sklearn.preprocessing import StandardScaler, LabelEncoder\n",
    "from sklearn.model_selection import train_test_split\n",
    "import numpy as np\n",
    "import tensorflow as tf\n",
    "import warnings\n",
    "warnings.filterwarnings(\"ignore\")"
   ]
  },
  {
   "cell_type": "markdown",
   "metadata": {},
   "source": [
    "### Step 2: Importing dataset"
   ]
  },
  {
   "cell_type": "code",
   "execution_count": 2,
   "metadata": {},
   "outputs": [
    {
     "data": {
      "text/html": [
       "<div>\n",
       "<style scoped>\n",
       "    .dataframe tbody tr th:only-of-type {\n",
       "        vertical-align: middle;\n",
       "    }\n",
       "\n",
       "    .dataframe tbody tr th {\n",
       "        vertical-align: top;\n",
       "    }\n",
       "\n",
       "    .dataframe thead th {\n",
       "        text-align: right;\n",
       "    }\n",
       "</style>\n",
       "<table border=\"1\" class=\"dataframe\">\n",
       "  <thead>\n",
       "    <tr style=\"text-align: right;\">\n",
       "      <th></th>\n",
       "      <th>customer name</th>\n",
       "      <th>customer e-mail</th>\n",
       "      <th>country</th>\n",
       "      <th>gender</th>\n",
       "      <th>age</th>\n",
       "      <th>annual Salary</th>\n",
       "      <th>credit card debt</th>\n",
       "      <th>net worth</th>\n",
       "      <th>car purchase amount</th>\n",
       "    </tr>\n",
       "  </thead>\n",
       "  <tbody>\n",
       "    <tr>\n",
       "      <th>0</th>\n",
       "      <td>Martina Avila</td>\n",
       "      <td>cubilia.Curae.Phasellus@quisaccumsanconvallis.edu</td>\n",
       "      <td>Bulgaria</td>\n",
       "      <td>0</td>\n",
       "      <td>41.851720</td>\n",
       "      <td>62812.09301</td>\n",
       "      <td>11609.380910</td>\n",
       "      <td>238961.2505</td>\n",
       "      <td>35321.45877</td>\n",
       "    </tr>\n",
       "    <tr>\n",
       "      <th>1</th>\n",
       "      <td>Harlan Barnes</td>\n",
       "      <td>eu.dolor@diam.co.uk</td>\n",
       "      <td>Belize</td>\n",
       "      <td>0</td>\n",
       "      <td>40.870623</td>\n",
       "      <td>66646.89292</td>\n",
       "      <td>9572.957136</td>\n",
       "      <td>530973.9078</td>\n",
       "      <td>45115.52566</td>\n",
       "    </tr>\n",
       "    <tr>\n",
       "      <th>2</th>\n",
       "      <td>Naomi Rodriquez</td>\n",
       "      <td>vulputate.mauris.sagittis@ametconsectetueradip...</td>\n",
       "      <td>Algeria</td>\n",
       "      <td>1</td>\n",
       "      <td>43.152897</td>\n",
       "      <td>53798.55112</td>\n",
       "      <td>11160.355060</td>\n",
       "      <td>638467.1773</td>\n",
       "      <td>42925.70921</td>\n",
       "    </tr>\n",
       "    <tr>\n",
       "      <th>3</th>\n",
       "      <td>Jade Cunningham</td>\n",
       "      <td>malesuada@dignissim.com</td>\n",
       "      <td>Cook Islands</td>\n",
       "      <td>1</td>\n",
       "      <td>58.271369</td>\n",
       "      <td>79370.03798</td>\n",
       "      <td>14426.164850</td>\n",
       "      <td>548599.0524</td>\n",
       "      <td>67422.36313</td>\n",
       "    </tr>\n",
       "    <tr>\n",
       "      <th>4</th>\n",
       "      <td>Cedric Leach</td>\n",
       "      <td>felis.ullamcorper.viverra@egetmollislectus.net</td>\n",
       "      <td>Brazil</td>\n",
       "      <td>1</td>\n",
       "      <td>57.313749</td>\n",
       "      <td>59729.15130</td>\n",
       "      <td>5358.712177</td>\n",
       "      <td>560304.0671</td>\n",
       "      <td>55915.46248</td>\n",
       "    </tr>\n",
       "  </tbody>\n",
       "</table>\n",
       "</div>"
      ],
      "text/plain": [
       "     customer name                                    customer e-mail  \\\n",
       "0    Martina Avila  cubilia.Curae.Phasellus@quisaccumsanconvallis.edu   \n",
       "1    Harlan Barnes                                eu.dolor@diam.co.uk   \n",
       "2  Naomi Rodriquez  vulputate.mauris.sagittis@ametconsectetueradip...   \n",
       "3  Jade Cunningham                            malesuada@dignissim.com   \n",
       "4     Cedric Leach     felis.ullamcorper.viverra@egetmollislectus.net   \n",
       "\n",
       "        country  gender        age  annual Salary  credit card debt  \\\n",
       "0      Bulgaria       0  41.851720    62812.09301      11609.380910   \n",
       "1        Belize       0  40.870623    66646.89292       9572.957136   \n",
       "2       Algeria       1  43.152897    53798.55112      11160.355060   \n",
       "3  Cook Islands       1  58.271369    79370.03798      14426.164850   \n",
       "4        Brazil       1  57.313749    59729.15130       5358.712177   \n",
       "\n",
       "     net worth  car purchase amount  \n",
       "0  238961.2505          35321.45877  \n",
       "1  530973.9078          45115.52566  \n",
       "2  638467.1773          42925.70921  \n",
       "3  548599.0524          67422.36313  \n",
       "4  560304.0671          55915.46248  "
      ]
     },
     "execution_count": 2,
     "metadata": {},
     "output_type": "execute_result"
    }
   ],
   "source": [
    "ds = pd.read_csv(\"car_purchasing.csv\", encoding=\"ISO-8859-1\")\n",
    "ds.head()"
   ]
  },
  {
   "cell_type": "markdown",
   "metadata": {},
   "source": [
    "### Step 3: checking null values and describing the dataset "
   ]
  },
  {
   "cell_type": "code",
   "execution_count": 3,
   "metadata": {},
   "outputs": [
    {
     "data": {
      "text/plain": [
       "(500, 9)"
      ]
     },
     "execution_count": 3,
     "metadata": {},
     "output_type": "execute_result"
    }
   ],
   "source": [
    "ds.shape"
   ]
  },
  {
   "cell_type": "code",
   "execution_count": 4,
   "metadata": {},
   "outputs": [
    {
     "data": {
      "text/plain": [
       "customer name          0\n",
       "customer e-mail        0\n",
       "country                0\n",
       "gender                 0\n",
       "age                    0\n",
       "annual Salary          0\n",
       "credit card debt       0\n",
       "net worth              0\n",
       "car purchase amount    0\n",
       "dtype: int64"
      ]
     },
     "execution_count": 4,
     "metadata": {},
     "output_type": "execute_result"
    }
   ],
   "source": [
    "ds.isnull().sum()"
   ]
  },
  {
   "cell_type": "code",
   "execution_count": 5,
   "metadata": {},
   "outputs": [
    {
     "data": {
      "text/html": [
       "<div>\n",
       "<style scoped>\n",
       "    .dataframe tbody tr th:only-of-type {\n",
       "        vertical-align: middle;\n",
       "    }\n",
       "\n",
       "    .dataframe tbody tr th {\n",
       "        vertical-align: top;\n",
       "    }\n",
       "\n",
       "    .dataframe thead th {\n",
       "        text-align: right;\n",
       "    }\n",
       "</style>\n",
       "<table border=\"1\" class=\"dataframe\">\n",
       "  <thead>\n",
       "    <tr style=\"text-align: right;\">\n",
       "      <th></th>\n",
       "      <th>gender</th>\n",
       "      <th>age</th>\n",
       "      <th>annual Salary</th>\n",
       "      <th>credit card debt</th>\n",
       "      <th>net worth</th>\n",
       "      <th>car purchase amount</th>\n",
       "    </tr>\n",
       "  </thead>\n",
       "  <tbody>\n",
       "    <tr>\n",
       "      <th>count</th>\n",
       "      <td>500.000000</td>\n",
       "      <td>500.000000</td>\n",
       "      <td>500.000000</td>\n",
       "      <td>500.000000</td>\n",
       "      <td>500.000000</td>\n",
       "      <td>500.000000</td>\n",
       "    </tr>\n",
       "    <tr>\n",
       "      <th>mean</th>\n",
       "      <td>0.506000</td>\n",
       "      <td>46.241674</td>\n",
       "      <td>62127.239608</td>\n",
       "      <td>9607.645049</td>\n",
       "      <td>431475.713625</td>\n",
       "      <td>44209.799218</td>\n",
       "    </tr>\n",
       "    <tr>\n",
       "      <th>std</th>\n",
       "      <td>0.500465</td>\n",
       "      <td>7.978862</td>\n",
       "      <td>11703.378228</td>\n",
       "      <td>3489.187973</td>\n",
       "      <td>173536.756340</td>\n",
       "      <td>10773.178744</td>\n",
       "    </tr>\n",
       "    <tr>\n",
       "      <th>min</th>\n",
       "      <td>0.000000</td>\n",
       "      <td>20.000000</td>\n",
       "      <td>20000.000000</td>\n",
       "      <td>100.000000</td>\n",
       "      <td>20000.000000</td>\n",
       "      <td>9000.000000</td>\n",
       "    </tr>\n",
       "    <tr>\n",
       "      <th>25%</th>\n",
       "      <td>0.000000</td>\n",
       "      <td>40.949969</td>\n",
       "      <td>54391.977195</td>\n",
       "      <td>7397.515792</td>\n",
       "      <td>299824.195900</td>\n",
       "      <td>37629.896040</td>\n",
       "    </tr>\n",
       "    <tr>\n",
       "      <th>50%</th>\n",
       "      <td>1.000000</td>\n",
       "      <td>46.049901</td>\n",
       "      <td>62915.497035</td>\n",
       "      <td>9655.035568</td>\n",
       "      <td>426750.120650</td>\n",
       "      <td>43997.783390</td>\n",
       "    </tr>\n",
       "    <tr>\n",
       "      <th>75%</th>\n",
       "      <td>1.000000</td>\n",
       "      <td>51.612263</td>\n",
       "      <td>70117.862005</td>\n",
       "      <td>11798.867487</td>\n",
       "      <td>557324.478725</td>\n",
       "      <td>51254.709517</td>\n",
       "    </tr>\n",
       "    <tr>\n",
       "      <th>max</th>\n",
       "      <td>1.000000</td>\n",
       "      <td>70.000000</td>\n",
       "      <td>100000.000000</td>\n",
       "      <td>20000.000000</td>\n",
       "      <td>1000000.000000</td>\n",
       "      <td>80000.000000</td>\n",
       "    </tr>\n",
       "  </tbody>\n",
       "</table>\n",
       "</div>"
      ],
      "text/plain": [
       "           gender         age  annual Salary  credit card debt  \\\n",
       "count  500.000000  500.000000     500.000000        500.000000   \n",
       "mean     0.506000   46.241674   62127.239608       9607.645049   \n",
       "std      0.500465    7.978862   11703.378228       3489.187973   \n",
       "min      0.000000   20.000000   20000.000000        100.000000   \n",
       "25%      0.000000   40.949969   54391.977195       7397.515792   \n",
       "50%      1.000000   46.049901   62915.497035       9655.035568   \n",
       "75%      1.000000   51.612263   70117.862005      11798.867487   \n",
       "max      1.000000   70.000000  100000.000000      20000.000000   \n",
       "\n",
       "            net worth  car purchase amount  \n",
       "count      500.000000           500.000000  \n",
       "mean    431475.713625         44209.799218  \n",
       "std     173536.756340         10773.178744  \n",
       "min      20000.000000          9000.000000  \n",
       "25%     299824.195900         37629.896040  \n",
       "50%     426750.120650         43997.783390  \n",
       "75%     557324.478725         51254.709517  \n",
       "max    1000000.000000         80000.000000  "
      ]
     },
     "execution_count": 5,
     "metadata": {},
     "output_type": "execute_result"
    }
   ],
   "source": [
    "ds.describe()"
   ]
  },
  {
   "cell_type": "markdown",
   "metadata": {},
   "source": [
    "### Step 4: Encoding the catagorical values into Numerical values"
   ]
  },
  {
   "cell_type": "code",
   "execution_count": 6,
   "metadata": {},
   "outputs": [
    {
     "data": {
      "text/plain": [
       "Index(['customer name', 'customer e-mail', 'country', 'gender', 'age',\n",
       "       'annual Salary', 'credit card debt', 'net worth',\n",
       "       'car purchase amount'],\n",
       "      dtype='object')"
      ]
     },
     "execution_count": 6,
     "metadata": {},
     "output_type": "execute_result"
    }
   ],
   "source": [
    "ds.columns"
   ]
  },
  {
   "cell_type": "code",
   "execution_count": 7,
   "metadata": {},
   "outputs": [
    {
     "data": {
      "text/html": [
       "<div>\n",
       "<style scoped>\n",
       "    .dataframe tbody tr th:only-of-type {\n",
       "        vertical-align: middle;\n",
       "    }\n",
       "\n",
       "    .dataframe tbody tr th {\n",
       "        vertical-align: top;\n",
       "    }\n",
       "\n",
       "    .dataframe thead th {\n",
       "        text-align: right;\n",
       "    }\n",
       "</style>\n",
       "<table border=\"1\" class=\"dataframe\">\n",
       "  <thead>\n",
       "    <tr style=\"text-align: right;\">\n",
       "      <th></th>\n",
       "      <th>country</th>\n",
       "      <th>annual Salary</th>\n",
       "      <th>credit card debt</th>\n",
       "      <th>net worth</th>\n",
       "      <th>car purchase amount</th>\n",
       "    </tr>\n",
       "  </thead>\n",
       "  <tbody>\n",
       "    <tr>\n",
       "      <th>0</th>\n",
       "      <td>Bulgaria</td>\n",
       "      <td>62812.09301</td>\n",
       "      <td>11609.380910</td>\n",
       "      <td>238961.2505</td>\n",
       "      <td>35321.45877</td>\n",
       "    </tr>\n",
       "    <tr>\n",
       "      <th>1</th>\n",
       "      <td>Belize</td>\n",
       "      <td>66646.89292</td>\n",
       "      <td>9572.957136</td>\n",
       "      <td>530973.9078</td>\n",
       "      <td>45115.52566</td>\n",
       "    </tr>\n",
       "    <tr>\n",
       "      <th>2</th>\n",
       "      <td>Algeria</td>\n",
       "      <td>53798.55112</td>\n",
       "      <td>11160.355060</td>\n",
       "      <td>638467.1773</td>\n",
       "      <td>42925.70921</td>\n",
       "    </tr>\n",
       "    <tr>\n",
       "      <th>3</th>\n",
       "      <td>Cook Islands</td>\n",
       "      <td>79370.03798</td>\n",
       "      <td>14426.164850</td>\n",
       "      <td>548599.0524</td>\n",
       "      <td>67422.36313</td>\n",
       "    </tr>\n",
       "    <tr>\n",
       "      <th>4</th>\n",
       "      <td>Brazil</td>\n",
       "      <td>59729.15130</td>\n",
       "      <td>5358.712177</td>\n",
       "      <td>560304.0671</td>\n",
       "      <td>55915.46248</td>\n",
       "    </tr>\n",
       "  </tbody>\n",
       "</table>\n",
       "</div>"
      ],
      "text/plain": [
       "        country  annual Salary  credit card debt    net worth  \\\n",
       "0      Bulgaria    62812.09301      11609.380910  238961.2505   \n",
       "1        Belize    66646.89292       9572.957136  530973.9078   \n",
       "2       Algeria    53798.55112      11160.355060  638467.1773   \n",
       "3  Cook Islands    79370.03798      14426.164850  548599.0524   \n",
       "4        Brazil    59729.15130       5358.712177  560304.0671   \n",
       "\n",
       "   car purchase amount  \n",
       "0          35321.45877  \n",
       "1          45115.52566  \n",
       "2          42925.70921  \n",
       "3          67422.36313  \n",
       "4          55915.46248  "
      ]
     },
     "execution_count": 7,
     "metadata": {},
     "output_type": "execute_result"
    }
   ],
   "source": [
    "ds = ds.drop(columns=['customer name', 'customer e-mail', 'gender','age'])\n",
    "ds.head()\n"
   ]
  },
  {
   "cell_type": "code",
   "execution_count": 8,
   "metadata": {},
   "outputs": [],
   "source": [
    "le = LabelEncoder()"
   ]
  },
  {
   "cell_type": "code",
   "execution_count": 9,
   "metadata": {},
   "outputs": [
    {
     "data": {
      "text/plain": [
       "array(['Bulgaria', 'Belize', 'Algeria', 'Cook Islands', 'Brazil',\n",
       "       'Liberia', 'Syria', 'Czech Republic', 'Armenia', 'Somalia',\n",
       "       'Sint Maarten', 'Greenland', 'Nicaragua', 'Palestine, State of',\n",
       "       'United Arab Emirates', 'Gabon', 'Tokelau', 'Portugal', 'Chad',\n",
       "       'Iraq', 'Sudan', 'Angola', 'Nigeria', 'Madagascar', 'Macedonia',\n",
       "       'Oman', 'Colombia', 'Namibia', 'Denmark', 'Dominican Republic',\n",
       "       'Costa Rica', 'Botswana', 'Saint Pierre and Miquelon', 'France',\n",
       "       'Senegal', 'Cambodia', 'Suriname', 'Turkey', 'Ethiopia',\n",
       "       'French Guiana', 'Bhutan', 'Georgia', 'Mozambique', 'Nauru',\n",
       "       'Timor-Leste', 'Djibouti', 'Argentina', 'Taiwan', 'Åland Islands',\n",
       "       'Turks and Caicos Islands', 'Samoa', 'Vanuatu', 'Mongolia',\n",
       "       'Sri Lanka', 'Guinea-Bissau', 'Egypt', 'Slovenia', 'Benin',\n",
       "       'Cape Verde', 'Paraguay', 'Laos', 'Iceland', 'Viet Nam',\n",
       "       'Marshall Islands', 'Germany', 'Kyrgyzstan', 'Mauritius', 'Gambia',\n",
       "       'Reunion', 'Jordan', 'Slovakia', 'Kiribati',\n",
       "       'United States Minor Outlying Islands', 'Puerto Rico', 'Guinea',\n",
       "       'Guam', 'China', 'Sierra Leone', 'Ecuador', 'Anguilla',\n",
       "       'Kazakhstan', 'Jersey', 'Macao', 'Indonesia', 'Palau', 'Ghana',\n",
       "       'Cameroon', 'Myanmar', 'Central African Republic', 'Bolivia',\n",
       "       'Tuvalu', 'Qatar', 'Venezuela', 'Togo', 'Nepal', 'Saudi Arabia',\n",
       "       'San Marino', 'Saint Lucia', 'Solomon Islands', 'Andorra',\n",
       "       'Falkland Islands', 'Japan', 'Israel', 'Christmas Island',\n",
       "       'Liechtenstein', 'Mayotte', 'Saint Kitts and Nevis', 'Maldives',\n",
       "       'Aruba', 'Lebanon', 'Monaco', 'Martinique', 'Guadeloupe',\n",
       "       'Equatorial Guinea', 'South Africa', 'Wallis and Futuna',\n",
       "       'Tunisia', 'Pakistan', 'Bahrain', 'Serbia', 'Peru', 'Austria',\n",
       "       'Lithuania', 'Curaçao', 'Zimbabwe', 'Uganda', 'Kenya', 'Kuwait',\n",
       "       'Greece', 'Bouvet Island', 'Thailand', 'Bahamas', 'Latvia',\n",
       "       'Hong Kong', 'French Polynesia', 'Yemen',\n",
       "       'Heard Island and Mcdonald Islands', 'Virgin Islands, British',\n",
       "       'Singapore', 'Cocos (Keeling) Islands', 'Saint Martin',\n",
       "       'Northern Mariana Islands', 'Croatia', 'Malta', 'Mauritania',\n",
       "       'Guyana', 'Haiti', 'Faroe Islands', 'Saint Barthélemy', 'Poland',\n",
       "       'Congo (Brazzaville)', 'Guernsey', 'Sao Tome and Principe',\n",
       "       'Grenada', 'United States', 'Virgin Islands, United States',\n",
       "       'Bermuda', 'Norfolk Island', 'Italy', 'Bangladesh', 'Philippines',\n",
       "       'French Southern Territories', 'Jamaica', 'Belarus',\n",
       "       'Turkmenistan', 'Guatemala', 'Saint Vincent and The Grenadines',\n",
       "       'Tonga', 'Papua New Guinea', 'Canada',\n",
       "       'Bonaire, Sint Eustatius and Saba', 'El Salvador', 'Isle of Man',\n",
       "       'Bosnia and Herzegovina', 'India', 'Trinidad and Tobago',\n",
       "       'Moldova', 'Tanzania', 'Niue', 'Rwanda', 'Morocco',\n",
       "       'Western Sahara', 'Micronesia', 'American Samoa',\n",
       "       'United Kingdom (Great Britain)', 'Seychelles', 'Switzerland',\n",
       "       'Chile', 'Uruguay', 'South Georgia and The South Sandwich Islands',\n",
       "       'Afghanistan', 'Belgium', 'Antarctica', 'Korea, South',\n",
       "       'Cayman Islands', 'Honduras', 'Mexico', 'Australia', 'Montenegro',\n",
       "       'Luxembourg', 'Hungary', 'Niger', 'New Caledonia', 'Mali',\n",
       "       'Malawi', 'South Sudan', 'Ukraine', 'New Zealand',\n",
       "       'Saint Helena, Ascension and Tristan da Cunha', 'Malaysia',\n",
       "       'marlal'], dtype=object)"
      ]
     },
     "execution_count": 9,
     "metadata": {},
     "output_type": "execute_result"
    }
   ],
   "source": [
    "ds['country'].unique()"
   ]
  },
  {
   "cell_type": "code",
   "execution_count": 10,
   "metadata": {},
   "outputs": [],
   "source": [
    "ds['country'] = le.fit_transform(ds['country'])"
   ]
  },
  {
   "cell_type": "code",
   "execution_count": 11,
   "metadata": {},
   "outputs": [
    {
     "name": "stdout",
     "output_type": "stream",
     "text": [
      "Encoded values for countries:\n",
      "Afghanistan -> 0\n",
      "Algeria -> 1\n",
      "American Samoa -> 2\n",
      "Andorra -> 3\n",
      "Angola -> 4\n",
      "Anguilla -> 5\n",
      "Antarctica -> 6\n",
      "Argentina -> 7\n",
      "Armenia -> 8\n",
      "Aruba -> 9\n",
      "Australia -> 10\n",
      "Austria -> 11\n",
      "Bahamas -> 12\n",
      "Bahrain -> 13\n",
      "Bangladesh -> 14\n",
      "Belarus -> 15\n",
      "Belgium -> 16\n",
      "Belize -> 17\n",
      "Benin -> 18\n",
      "Bermuda -> 19\n",
      "Bhutan -> 20\n",
      "Bolivia -> 21\n",
      "Bonaire, Sint Eustatius and Saba -> 22\n",
      "Bosnia and Herzegovina -> 23\n",
      "Botswana -> 24\n",
      "Bouvet Island -> 25\n",
      "Brazil -> 26\n",
      "Bulgaria -> 27\n",
      "Cambodia -> 28\n",
      "Cameroon -> 29\n",
      "Canada -> 30\n",
      "Cape Verde -> 31\n",
      "Cayman Islands -> 32\n",
      "Central African Republic -> 33\n",
      "Chad -> 34\n",
      "Chile -> 35\n",
      "China -> 36\n",
      "Christmas Island -> 37\n",
      "Cocos (Keeling) Islands -> 38\n",
      "Colombia -> 39\n",
      "Congo (Brazzaville) -> 40\n",
      "Cook Islands -> 41\n",
      "Costa Rica -> 42\n",
      "Croatia -> 43\n",
      "Curaçao -> 44\n",
      "Czech Republic -> 45\n",
      "Denmark -> 46\n",
      "Djibouti -> 47\n",
      "Dominican Republic -> 48\n",
      "Ecuador -> 49\n",
      "Egypt -> 50\n",
      "El Salvador -> 51\n",
      "Equatorial Guinea -> 52\n",
      "Ethiopia -> 53\n",
      "Falkland Islands -> 54\n",
      "Faroe Islands -> 55\n",
      "France -> 56\n",
      "French Guiana -> 57\n",
      "French Polynesia -> 58\n",
      "French Southern Territories -> 59\n",
      "Gabon -> 60\n",
      "Gambia -> 61\n",
      "Georgia -> 62\n",
      "Germany -> 63\n",
      "Ghana -> 64\n",
      "Greece -> 65\n",
      "Greenland -> 66\n",
      "Grenada -> 67\n",
      "Guadeloupe -> 68\n",
      "Guam -> 69\n",
      "Guatemala -> 70\n",
      "Guernsey -> 71\n",
      "Guinea -> 72\n",
      "Guinea-Bissau -> 73\n",
      "Guyana -> 74\n",
      "Haiti -> 75\n",
      "Heard Island and Mcdonald Islands -> 76\n",
      "Honduras -> 77\n",
      "Hong Kong -> 78\n",
      "Hungary -> 79\n",
      "Iceland -> 80\n",
      "India -> 81\n",
      "Indonesia -> 82\n",
      "Iraq -> 83\n",
      "Isle of Man -> 84\n",
      "Israel -> 85\n",
      "Italy -> 86\n",
      "Jamaica -> 87\n",
      "Japan -> 88\n",
      "Jersey -> 89\n",
      "Jordan -> 90\n",
      "Kazakhstan -> 91\n",
      "Kenya -> 92\n",
      "Kiribati -> 93\n",
      "Korea, South -> 94\n",
      "Kuwait -> 95\n",
      "Kyrgyzstan -> 96\n",
      "Laos -> 97\n",
      "Latvia -> 98\n",
      "Lebanon -> 99\n",
      "Liberia -> 100\n",
      "Liechtenstein -> 101\n",
      "Lithuania -> 102\n",
      "Luxembourg -> 103\n",
      "Macao -> 104\n",
      "Macedonia -> 105\n",
      "Madagascar -> 106\n",
      "Malawi -> 107\n",
      "Malaysia -> 108\n",
      "Maldives -> 109\n",
      "Mali -> 110\n",
      "Malta -> 111\n",
      "Marshall Islands -> 112\n",
      "Martinique -> 113\n",
      "Mauritania -> 114\n",
      "Mauritius -> 115\n",
      "Mayotte -> 116\n",
      "Mexico -> 117\n",
      "Micronesia -> 118\n",
      "Moldova -> 119\n",
      "Monaco -> 120\n",
      "Mongolia -> 121\n",
      "Montenegro -> 122\n",
      "Morocco -> 123\n",
      "Mozambique -> 124\n",
      "Myanmar -> 125\n",
      "Namibia -> 126\n",
      "Nauru -> 127\n",
      "Nepal -> 128\n",
      "New Caledonia -> 129\n",
      "New Zealand -> 130\n",
      "Nicaragua -> 131\n",
      "Niger -> 132\n",
      "Nigeria -> 133\n",
      "Niue -> 134\n",
      "Norfolk Island -> 135\n",
      "Northern Mariana Islands -> 136\n",
      "Oman -> 137\n",
      "Pakistan -> 138\n",
      "Palau -> 139\n",
      "Palestine, State of -> 140\n",
      "Papua New Guinea -> 141\n",
      "Paraguay -> 142\n",
      "Peru -> 143\n",
      "Philippines -> 144\n",
      "Poland -> 145\n",
      "Portugal -> 146\n",
      "Puerto Rico -> 147\n",
      "Qatar -> 148\n",
      "Reunion -> 149\n",
      "Rwanda -> 150\n",
      "Saint Barthélemy -> 151\n",
      "Saint Helena, Ascension and Tristan da Cunha -> 152\n",
      "Saint Kitts and Nevis -> 153\n",
      "Saint Lucia -> 154\n",
      "Saint Martin -> 155\n",
      "Saint Pierre and Miquelon -> 156\n",
      "Saint Vincent and The Grenadines -> 157\n",
      "Samoa -> 158\n",
      "San Marino -> 159\n",
      "Sao Tome and Principe -> 160\n",
      "Saudi Arabia -> 161\n",
      "Senegal -> 162\n",
      "Serbia -> 163\n",
      "Seychelles -> 164\n",
      "Sierra Leone -> 165\n",
      "Singapore -> 166\n",
      "Sint Maarten -> 167\n",
      "Slovakia -> 168\n",
      "Slovenia -> 169\n",
      "Solomon Islands -> 170\n",
      "Somalia -> 171\n",
      "South Africa -> 172\n",
      "South Georgia and The South Sandwich Islands -> 173\n",
      "South Sudan -> 174\n",
      "Sri Lanka -> 175\n",
      "Sudan -> 176\n",
      "Suriname -> 177\n",
      "Switzerland -> 178\n",
      "Syria -> 179\n",
      "Taiwan -> 180\n",
      "Tanzania -> 181\n",
      "Thailand -> 182\n",
      "Timor-Leste -> 183\n",
      "Togo -> 184\n",
      "Tokelau -> 185\n",
      "Tonga -> 186\n",
      "Trinidad and Tobago -> 187\n",
      "Tunisia -> 188\n",
      "Turkey -> 189\n",
      "Turkmenistan -> 190\n",
      "Turks and Caicos Islands -> 191\n",
      "Tuvalu -> 192\n",
      "Uganda -> 193\n",
      "Ukraine -> 194\n",
      "United Arab Emirates -> 195\n",
      "United Kingdom (Great Britain) -> 196\n",
      "United States -> 197\n",
      "United States Minor Outlying Islands -> 198\n",
      "Uruguay -> 199\n",
      "Vanuatu -> 200\n",
      "Venezuela -> 201\n",
      "Viet Nam -> 202\n",
      "Virgin Islands, British -> 203\n",
      "Virgin Islands, United States -> 204\n",
      "Wallis and Futuna -> 205\n",
      "Western Sahara -> 206\n",
      "Yemen -> 207\n",
      "Zimbabwe -> 208\n",
      "marlal -> 209\n",
      "Åland Islands -> 210\n"
     ]
    }
   ],
   "source": [
    "print(\"Encoded values for countries:\")\n",
    "for index, label in enumerate(le.classes_):\n",
    "    print(f\"{label} -> {index}\")"
   ]
  },
  {
   "cell_type": "code",
   "execution_count": 12,
   "metadata": {},
   "outputs": [],
   "source": [
    "import pickle"
   ]
  },
  {
   "cell_type": "code",
   "execution_count": 13,
   "metadata": {},
   "outputs": [],
   "source": [
    "with open('label_encoder.pkl', 'wb') as file:\n",
    "    pickle.dump(le, file)"
   ]
  },
  {
   "cell_type": "code",
   "execution_count": 14,
   "metadata": {},
   "outputs": [
    {
     "data": {
      "text/plain": [
       "0       27\n",
       "1       17\n",
       "2        1\n",
       "3       41\n",
       "4       26\n",
       "      ... \n",
       "495    128\n",
       "496    208\n",
       "497    144\n",
       "498     24\n",
       "499    209\n",
       "Name: country, Length: 500, dtype: int64"
      ]
     },
     "execution_count": 14,
     "metadata": {},
     "output_type": "execute_result"
    }
   ],
   "source": [
    "ds['country']"
   ]
  },
  {
   "cell_type": "code",
   "execution_count": 15,
   "metadata": {},
   "outputs": [
    {
     "data": {
      "text/html": [
       "<div>\n",
       "<style scoped>\n",
       "    .dataframe tbody tr th:only-of-type {\n",
       "        vertical-align: middle;\n",
       "    }\n",
       "\n",
       "    .dataframe tbody tr th {\n",
       "        vertical-align: top;\n",
       "    }\n",
       "\n",
       "    .dataframe thead th {\n",
       "        text-align: right;\n",
       "    }\n",
       "</style>\n",
       "<table border=\"1\" class=\"dataframe\">\n",
       "  <thead>\n",
       "    <tr style=\"text-align: right;\">\n",
       "      <th></th>\n",
       "      <th>country</th>\n",
       "      <th>annual Salary</th>\n",
       "      <th>credit card debt</th>\n",
       "      <th>net worth</th>\n",
       "      <th>car purchase amount</th>\n",
       "    </tr>\n",
       "  </thead>\n",
       "  <tbody>\n",
       "    <tr>\n",
       "      <th>0</th>\n",
       "      <td>27</td>\n",
       "      <td>62812.09301</td>\n",
       "      <td>11609.380910</td>\n",
       "      <td>238961.2505</td>\n",
       "      <td>35321.45877</td>\n",
       "    </tr>\n",
       "    <tr>\n",
       "      <th>1</th>\n",
       "      <td>17</td>\n",
       "      <td>66646.89292</td>\n",
       "      <td>9572.957136</td>\n",
       "      <td>530973.9078</td>\n",
       "      <td>45115.52566</td>\n",
       "    </tr>\n",
       "    <tr>\n",
       "      <th>2</th>\n",
       "      <td>1</td>\n",
       "      <td>53798.55112</td>\n",
       "      <td>11160.355060</td>\n",
       "      <td>638467.1773</td>\n",
       "      <td>42925.70921</td>\n",
       "    </tr>\n",
       "    <tr>\n",
       "      <th>3</th>\n",
       "      <td>41</td>\n",
       "      <td>79370.03798</td>\n",
       "      <td>14426.164850</td>\n",
       "      <td>548599.0524</td>\n",
       "      <td>67422.36313</td>\n",
       "    </tr>\n",
       "    <tr>\n",
       "      <th>4</th>\n",
       "      <td>26</td>\n",
       "      <td>59729.15130</td>\n",
       "      <td>5358.712177</td>\n",
       "      <td>560304.0671</td>\n",
       "      <td>55915.46248</td>\n",
       "    </tr>\n",
       "  </tbody>\n",
       "</table>\n",
       "</div>"
      ],
      "text/plain": [
       "   country  annual Salary  credit card debt    net worth  car purchase amount\n",
       "0       27    62812.09301      11609.380910  238961.2505          35321.45877\n",
       "1       17    66646.89292       9572.957136  530973.9078          45115.52566\n",
       "2        1    53798.55112      11160.355060  638467.1773          42925.70921\n",
       "3       41    79370.03798      14426.164850  548599.0524          67422.36313\n",
       "4       26    59729.15130       5358.712177  560304.0671          55915.46248"
      ]
     },
     "execution_count": 15,
     "metadata": {},
     "output_type": "execute_result"
    }
   ],
   "source": [
    "ds.head()"
   ]
  },
  {
   "cell_type": "markdown",
   "metadata": {},
   "source": [
    "### Step 5: Splitting the whole data into training and testing data"
   ]
  },
  {
   "cell_type": "code",
   "execution_count": 16,
   "metadata": {},
   "outputs": [],
   "source": [
    "X = ds.drop(columns = \"car purchase amount\")\n",
    "y = ds[\"car purchase amount\"]"
   ]
  },
  {
   "cell_type": "code",
   "execution_count": 17,
   "metadata": {},
   "outputs": [
    {
     "data": {
      "text/html": [
       "<div>\n",
       "<style scoped>\n",
       "    .dataframe tbody tr th:only-of-type {\n",
       "        vertical-align: middle;\n",
       "    }\n",
       "\n",
       "    .dataframe tbody tr th {\n",
       "        vertical-align: top;\n",
       "    }\n",
       "\n",
       "    .dataframe thead th {\n",
       "        text-align: right;\n",
       "    }\n",
       "</style>\n",
       "<table border=\"1\" class=\"dataframe\">\n",
       "  <thead>\n",
       "    <tr style=\"text-align: right;\">\n",
       "      <th></th>\n",
       "      <th>country</th>\n",
       "      <th>annual Salary</th>\n",
       "      <th>credit card debt</th>\n",
       "      <th>net worth</th>\n",
       "    </tr>\n",
       "  </thead>\n",
       "  <tbody>\n",
       "    <tr>\n",
       "      <th>0</th>\n",
       "      <td>27</td>\n",
       "      <td>62812.09301</td>\n",
       "      <td>11609.380910</td>\n",
       "      <td>238961.2505</td>\n",
       "    </tr>\n",
       "    <tr>\n",
       "      <th>1</th>\n",
       "      <td>17</td>\n",
       "      <td>66646.89292</td>\n",
       "      <td>9572.957136</td>\n",
       "      <td>530973.9078</td>\n",
       "    </tr>\n",
       "    <tr>\n",
       "      <th>2</th>\n",
       "      <td>1</td>\n",
       "      <td>53798.55112</td>\n",
       "      <td>11160.355060</td>\n",
       "      <td>638467.1773</td>\n",
       "    </tr>\n",
       "    <tr>\n",
       "      <th>3</th>\n",
       "      <td>41</td>\n",
       "      <td>79370.03798</td>\n",
       "      <td>14426.164850</td>\n",
       "      <td>548599.0524</td>\n",
       "    </tr>\n",
       "    <tr>\n",
       "      <th>4</th>\n",
       "      <td>26</td>\n",
       "      <td>59729.15130</td>\n",
       "      <td>5358.712177</td>\n",
       "      <td>560304.0671</td>\n",
       "    </tr>\n",
       "  </tbody>\n",
       "</table>\n",
       "</div>"
      ],
      "text/plain": [
       "   country  annual Salary  credit card debt    net worth\n",
       "0       27    62812.09301      11609.380910  238961.2505\n",
       "1       17    66646.89292       9572.957136  530973.9078\n",
       "2        1    53798.55112      11160.355060  638467.1773\n",
       "3       41    79370.03798      14426.164850  548599.0524\n",
       "4       26    59729.15130       5358.712177  560304.0671"
      ]
     },
     "execution_count": 17,
     "metadata": {},
     "output_type": "execute_result"
    }
   ],
   "source": [
    "X.head()"
   ]
  },
  {
   "cell_type": "code",
   "execution_count": 18,
   "metadata": {},
   "outputs": [
    {
     "name": "stdout",
     "output_type": "stream",
     "text": [
      "country               int64\n",
      "annual Salary       float64\n",
      "credit card debt    float64\n",
      "net worth           float64\n",
      "dtype: object\n"
     ]
    }
   ],
   "source": [
    "print(X.dtypes)"
   ]
  },
  {
   "cell_type": "code",
   "execution_count": 19,
   "metadata": {},
   "outputs": [
    {
     "data": {
      "text/plain": [
       "0    35321.45877\n",
       "1    45115.52566\n",
       "2    42925.70921\n",
       "3    67422.36313\n",
       "4    55915.46248\n",
       "Name: car purchase amount, dtype: float64"
      ]
     },
     "execution_count": 19,
     "metadata": {},
     "output_type": "execute_result"
    }
   ],
   "source": [
    "y.head()"
   ]
  },
  {
   "cell_type": "markdown",
   "metadata": {},
   "source": [
    "### Step 6: Using StandedScalar for Enhancing Model Performance and spliting the whole data into training and testing"
   ]
  },
  {
   "cell_type": "code",
   "execution_count": 20,
   "metadata": {},
   "outputs": [],
   "source": [
    "ss = StandardScaler()\n",
    "X = ss.fit_transform(X)"
   ]
  },
  {
   "cell_type": "code",
   "execution_count": 21,
   "metadata": {},
   "outputs": [],
   "source": [
    "from sklearn.model_selection import train_test_split"
   ]
  },
  {
   "cell_type": "code",
   "execution_count": 22,
   "metadata": {},
   "outputs": [],
   "source": [
    "X_train, X_test, y_train, y_test = train_test_split(X,y, test_size=0.2, random_state=42)"
   ]
  },
  {
   "cell_type": "code",
   "execution_count": 23,
   "metadata": {},
   "outputs": [
    {
     "data": {
      "text/plain": [
       "(400, 4)"
      ]
     },
     "execution_count": 23,
     "metadata": {},
     "output_type": "execute_result"
    }
   ],
   "source": [
    "X_train.shape"
   ]
  },
  {
   "cell_type": "markdown",
   "metadata": {},
   "source": [
    "### Step 7: Defining an Artificial Neural Network "
   ]
  },
  {
   "cell_type": "code",
   "execution_count": 24,
   "metadata": {},
   "outputs": [],
   "source": [
    "model = tf.keras.models.Sequential()"
   ]
  },
  {
   "cell_type": "code",
   "execution_count": 25,
   "metadata": {},
   "outputs": [],
   "source": [
    "model.add(tf.keras.layers.Dense(units=4, activation='relu')) #input layer\n",
    "model.add(tf.keras.layers.Dense(units=128, activation='relu'))   # Hidden layer 1\n",
    "model.add(tf.keras.layers.Dense(units = 64, activation='relu'))  # Hidden layer 2\n",
    "model.add(tf.keras.layers.Dense(units = 32, activation='relu'))  # Hidden layer 3\n",
    "model.add(tf.keras.layers.Dense(units=1))  # output layer"
   ]
  },
  {
   "cell_type": "markdown",
   "metadata": {},
   "source": [
    "### Step 8: Compiling Network"
   ]
  },
  {
   "cell_type": "code",
   "execution_count": 26,
   "metadata": {},
   "outputs": [],
   "source": [
    "model.compile(loss='mean_squared_error', optimizer='adam', metrics=['mean_absolute_error'])"
   ]
  },
  {
   "cell_type": "markdown",
   "metadata": {},
   "source": [
    "### Step 9: Fitting Network"
   ]
  },
  {
   "cell_type": "markdown",
   "metadata": {},
   "source": [
    "for batch_size=6 and epochs=30 i am getting 5500 around mean absolute error"
   ]
  },
  {
   "cell_type": "code",
   "execution_count": 27,
   "metadata": {},
   "outputs": [
    {
     "name": "stdout",
     "output_type": "stream",
     "text": [
      "Epoch 1/30\n",
      "\u001b[1m80/80\u001b[0m \u001b[32m━━━━━━━━━━━━━━━━━━━━\u001b[0m\u001b[37m\u001b[0m \u001b[1m2s\u001b[0m 3ms/step - loss: 2127972608.0000 - mean_absolute_error: 44713.9336\n",
      "Epoch 2/30\n",
      "\u001b[1m80/80\u001b[0m \u001b[32m━━━━━━━━━━━━━━━━━━━━\u001b[0m\u001b[37m\u001b[0m \u001b[1m0s\u001b[0m 3ms/step - loss: 2036771584.0000 - mean_absolute_error: 43836.8633\n",
      "Epoch 3/30\n",
      "\u001b[1m80/80\u001b[0m \u001b[32m━━━━━━━━━━━━━━━━━━━━\u001b[0m\u001b[37m\u001b[0m \u001b[1m0s\u001b[0m 3ms/step - loss: 1833474560.0000 - mean_absolute_error: 41245.3516\n",
      "Epoch 4/30\n",
      "\u001b[1m80/80\u001b[0m \u001b[32m━━━━━━━━━━━━━━━━━━━━\u001b[0m\u001b[37m\u001b[0m \u001b[1m0s\u001b[0m 4ms/step - loss: 940760256.0000 - mean_absolute_error: 26660.0996\n",
      "Epoch 5/30\n",
      "\u001b[1m80/80\u001b[0m \u001b[32m━━━━━━━━━━━━━━━━━━━━\u001b[0m\u001b[37m\u001b[0m \u001b[1m0s\u001b[0m 4ms/step - loss: 420984064.0000 - mean_absolute_error: 16787.7363\n",
      "Epoch 6/30\n",
      "\u001b[1m80/80\u001b[0m \u001b[32m━━━━━━━━━━━━━━━━━━━━\u001b[0m\u001b[37m\u001b[0m \u001b[1m0s\u001b[0m 4ms/step - loss: 337615680.0000 - mean_absolute_error: 15225.6211\n",
      "Epoch 7/30\n",
      "\u001b[1m80/80\u001b[0m \u001b[32m━━━━━━━━━━━━━━━━━━━━\u001b[0m\u001b[37m\u001b[0m \u001b[1m0s\u001b[0m 4ms/step - loss: 283525152.0000 - mean_absolute_error: 13991.5391\n",
      "Epoch 8/30\n",
      "\u001b[1m80/80\u001b[0m \u001b[32m━━━━━━━━━━━━━━━━━━━━\u001b[0m\u001b[37m\u001b[0m \u001b[1m0s\u001b[0m 3ms/step - loss: 220264944.0000 - mean_absolute_error: 12128.3223\n",
      "Epoch 9/30\n",
      "\u001b[1m80/80\u001b[0m \u001b[32m━━━━━━━━━━━━━━━━━━━━\u001b[0m\u001b[37m\u001b[0m \u001b[1m0s\u001b[0m 3ms/step - loss: 190988512.0000 - mean_absolute_error: 11201.9268\n",
      "Epoch 10/30\n",
      "\u001b[1m80/80\u001b[0m \u001b[32m━━━━━━━━━━━━━━━━━━━━\u001b[0m\u001b[37m\u001b[0m \u001b[1m0s\u001b[0m 3ms/step - loss: 133740264.0000 - mean_absolute_error: 9405.2822\n",
      "Epoch 11/30\n",
      "\u001b[1m80/80\u001b[0m \u001b[32m━━━━━━━━━━━━━━━━━━━━\u001b[0m\u001b[37m\u001b[0m \u001b[1m0s\u001b[0m 4ms/step - loss: 141497104.0000 - mean_absolute_error: 9638.9658\n",
      "Epoch 12/30\n",
      "\u001b[1m80/80\u001b[0m \u001b[32m━━━━━━━━━━━━━━━━━━━━\u001b[0m\u001b[37m\u001b[0m \u001b[1m0s\u001b[0m 4ms/step - loss: 123085392.0000 - mean_absolute_error: 8913.2441\n",
      "Epoch 13/30\n",
      "\u001b[1m80/80\u001b[0m \u001b[32m━━━━━━━━━━━━━━━━━━━━\u001b[0m\u001b[37m\u001b[0m \u001b[1m0s\u001b[0m 2ms/step - loss: 113985416.0000 - mean_absolute_error: 8575.9551\n",
      "Epoch 14/30\n",
      "\u001b[1m80/80\u001b[0m \u001b[32m━━━━━━━━━━━━━━━━━━━━\u001b[0m\u001b[37m\u001b[0m \u001b[1m0s\u001b[0m 3ms/step - loss: 101335696.0000 - mean_absolute_error: 8220.6582\n",
      "Epoch 15/30\n",
      "\u001b[1m80/80\u001b[0m \u001b[32m━━━━━━━━━━━━━━━━━━━━\u001b[0m\u001b[37m\u001b[0m \u001b[1m0s\u001b[0m 4ms/step - loss: 99461304.0000 - mean_absolute_error: 8073.4131 \n",
      "Epoch 16/30\n",
      "\u001b[1m80/80\u001b[0m \u001b[32m━━━━━━━━━━━━━━━━━━━━\u001b[0m\u001b[37m\u001b[0m \u001b[1m0s\u001b[0m 4ms/step - loss: 87206592.0000 - mean_absolute_error: 7562.1504\n",
      "Epoch 17/30\n",
      "\u001b[1m80/80\u001b[0m \u001b[32m━━━━━━━━━━━━━━━━━━━━\u001b[0m\u001b[37m\u001b[0m \u001b[1m0s\u001b[0m 4ms/step - loss: 88536792.0000 - mean_absolute_error: 7659.2725\n",
      "Epoch 18/30\n",
      "\u001b[1m80/80\u001b[0m \u001b[32m━━━━━━━━━━━━━━━━━━━━\u001b[0m\u001b[37m\u001b[0m \u001b[1m0s\u001b[0m 4ms/step - loss: 73309168.0000 - mean_absolute_error: 6812.3623\n",
      "Epoch 19/30\n",
      "\u001b[1m80/80\u001b[0m \u001b[32m━━━━━━━━━━━━━━━━━━━━\u001b[0m\u001b[37m\u001b[0m \u001b[1m0s\u001b[0m 4ms/step - loss: 76133032.0000 - mean_absolute_error: 6960.2393\n",
      "Epoch 20/30\n",
      "\u001b[1m80/80\u001b[0m \u001b[32m━━━━━━━━━━━━━━━━━━━━\u001b[0m\u001b[37m\u001b[0m \u001b[1m0s\u001b[0m 4ms/step - loss: 66959988.0000 - mean_absolute_error: 6588.2759\n",
      "Epoch 21/30\n",
      "\u001b[1m80/80\u001b[0m \u001b[32m━━━━━━━━━━━━━━━━━━━━\u001b[0m\u001b[37m\u001b[0m \u001b[1m0s\u001b[0m 4ms/step - loss: 65739092.0000 - mean_absolute_error: 6339.7490\n",
      "Epoch 22/30\n",
      "\u001b[1m80/80\u001b[0m \u001b[32m━━━━━━━━━━━━━━━━━━━━\u001b[0m\u001b[37m\u001b[0m \u001b[1m0s\u001b[0m 4ms/step - loss: 62622712.0000 - mean_absolute_error: 6259.4639\n",
      "Epoch 23/30\n",
      "\u001b[1m80/80\u001b[0m \u001b[32m━━━━━━━━━━━━━━━━━━━━\u001b[0m\u001b[37m\u001b[0m \u001b[1m0s\u001b[0m 3ms/step - loss: 67795128.0000 - mean_absolute_error: 6567.3672\n",
      "Epoch 24/30\n",
      "\u001b[1m80/80\u001b[0m \u001b[32m━━━━━━━━━━━━━━━━━━━━\u001b[0m\u001b[37m\u001b[0m \u001b[1m0s\u001b[0m 2ms/step - loss: 56024120.0000 - mean_absolute_error: 5624.6245\n",
      "Epoch 25/30\n",
      "\u001b[1m80/80\u001b[0m \u001b[32m━━━━━━━━━━━━━━━━━━━━\u001b[0m\u001b[37m\u001b[0m \u001b[1m0s\u001b[0m 4ms/step - loss: 62588992.0000 - mean_absolute_error: 6258.1846\n",
      "Epoch 26/30\n",
      "\u001b[1m80/80\u001b[0m \u001b[32m━━━━━━━━━━━━━━━━━━━━\u001b[0m\u001b[37m\u001b[0m \u001b[1m0s\u001b[0m 4ms/step - loss: 58599236.0000 - mean_absolute_error: 5963.9624\n",
      "Epoch 27/30\n",
      "\u001b[1m80/80\u001b[0m \u001b[32m━━━━━━━━━━━━━━━━━━━━\u001b[0m\u001b[37m\u001b[0m \u001b[1m0s\u001b[0m 5ms/step - loss: 61211800.0000 - mean_absolute_error: 6387.8516\n",
      "Epoch 28/30\n",
      "\u001b[1m80/80\u001b[0m \u001b[32m━━━━━━━━━━━━━━━━━━━━\u001b[0m\u001b[37m\u001b[0m \u001b[1m0s\u001b[0m 3ms/step - loss: 56095248.0000 - mean_absolute_error: 5848.1890\n",
      "Epoch 29/30\n",
      "\u001b[1m80/80\u001b[0m \u001b[32m━━━━━━━━━━━━━━━━━━━━\u001b[0m\u001b[37m\u001b[0m \u001b[1m0s\u001b[0m 4ms/step - loss: 58711884.0000 - mean_absolute_error: 5935.3540\n",
      "Epoch 30/30\n",
      "\u001b[1m80/80\u001b[0m \u001b[32m━━━━━━━━━━━━━━━━━━━━\u001b[0m\u001b[37m\u001b[0m \u001b[1m0s\u001b[0m 4ms/step - loss: 55758248.0000 - mean_absolute_error: 5885.7583\n"
     ]
    },
    {
     "data": {
      "text/plain": [
       "<keras.src.callbacks.history.History at 0x1bbed25ed40>"
      ]
     },
     "execution_count": 27,
     "metadata": {},
     "output_type": "execute_result"
    }
   ],
   "source": [
    "#fitting the model\n",
    "model.fit(X_train, y_train, epochs=30, batch_size=5)"
   ]
  },
  {
   "cell_type": "markdown",
   "metadata": {},
   "source": [
    "### Step 10: Model Evaluating"
   ]
  },
  {
   "cell_type": "code",
   "execution_count": 28,
   "metadata": {},
   "outputs": [
    {
     "name": "stdout",
     "output_type": "stream",
     "text": [
      "\u001b[1m4/4\u001b[0m \u001b[32m━━━━━━━━━━━━━━━━━━━━\u001b[0m\u001b[37m\u001b[0m \u001b[1m0s\u001b[0m 9ms/step - loss: 58057932.0000 - mean_absolute_error: 6145.6582  \n",
      "Mean Absolute Error (MAE): 6076.09326171875\n"
     ]
    }
   ],
   "source": [
    "loss, mae = model.evaluate(X_test,y_test)\n",
    "print(f'Mean Absolute Error (MAE): {mae}')"
   ]
  },
  {
   "cell_type": "markdown",
   "metadata": {},
   "source": [
    "### Step 11: Saving model"
   ]
  },
  {
   "cell_type": "code",
   "execution_count": 29,
   "metadata": {},
   "outputs": [
    {
     "name": "stderr",
     "output_type": "stream",
     "text": [
      "WARNING:absl:You are saving your model as an HDF5 file via `model.save()` or `keras.saving.save_model(model)`. This file format is considered legacy. We recommend using instead the native Keras format, e.g. `model.save('my_model.keras')` or `keras.saving.save_model(model, 'my_model.keras')`. \n"
     ]
    }
   ],
   "source": [
    "model.save(\"car_purchase_rate.h5\") "
   ]
  }
 ],
 "metadata": {
  "kernelspec": {
   "display_name": "SAP_venv",
   "language": "python",
   "name": "python3"
  },
  "language_info": {
   "codemirror_mode": {
    "name": "ipython",
    "version": 3
   },
   "file_extension": ".py",
   "mimetype": "text/x-python",
   "name": "python",
   "nbconvert_exporter": "python",
   "pygments_lexer": "ipython3",
   "version": "3.10.16"
  }
 },
 "nbformat": 4,
 "nbformat_minor": 2
}
